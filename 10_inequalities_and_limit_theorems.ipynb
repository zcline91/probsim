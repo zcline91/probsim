{
 "cells": [
  {
   "attachments": {},
   "cell_type": "markdown",
   "metadata": {},
   "source": [
    "# Chapter 10: Inequalities and limit theorems"
   ]
  },
  {
   "attachments": {},
   "cell_type": "markdown",
   "metadata": {},
   "source": [
    "## Jensen's Inequality"
   ]
  },
  {
   "attachments": {},
   "cell_type": "markdown",
   "metadata": {},
   "source": [
    "R makes it easy to compare the expectations of $X$ and $g(X)$ for a given choice of $g$, and this allows us to verify some special cases of Jensen's inequality. For example, suppose we simulate $10^4$ times from the $\\text{Expo}(1)$ distribution:"
   ]
  },
  {
   "cell_type": "code",
   "execution_count": null,
   "metadata": {
    "vscode": {
     "languageId": "r"
    }
   },
   "outputs": [],
   "source": [
    "x <- rexp(10^4)"
   ]
  },
  {
   "attachments": {},
   "cell_type": "markdown",
   "metadata": {},
   "source": [
    "According to Jensen's inequality, $E(\\log X) \\leq \\log E X$. The former can be approximated by `mean(log(x))` and the latter can be approximated by `log(mean(x))`, so compute both:"
   ]
  },
  {
   "cell_type": "code",
   "execution_count": null,
   "metadata": {
    "vscode": {
     "languageId": "r"
    }
   },
   "outputs": [],
   "source": [
    "mean(log(x))\n",
    "log(mean(x))"
   ]
  },
  {
   "attachments": {},
   "cell_type": "markdown",
   "metadata": {},
   "source": [
    "For the $\\text{Expo}(1)$ distribution, we find that `mean(log(x))` is approximately $−0.6$ (the true value is around $-0.577$), while `log(mean(x))` is approximately $0$ (the true value is $0$). This indeed suggests $E(\\log X) \\leq \\log E X$. We could also compare `mean(x^3)` to `mean(x)^3`, or `mean(sqrt(x))` to `sqrt(mean(x))` — the possibilities are endless."
   ]
  },
  {
   "attachments": {},
   "cell_type": "markdown",
   "metadata": {},
   "source": [
    "## Visualization of the law of large numbers"
   ]
  },
  {
   "attachments": {},
   "cell_type": "markdown",
   "metadata": {},
   "source": [
    "To plot the running proportion of Heads in a sequence of independent fair coin tosses, we first generate the coin tosses themselves:"
   ]
  },
  {
   "cell_type": "code",
   "execution_count": null,
   "metadata": {
    "vscode": {
     "languageId": "r"
    }
   },
   "outputs": [],
   "source": [
    "nsim <- 300\n",
    "p <- 1/2\n",
    "x <- rbinom(nsim,1,p)"
   ]
  },
  {
   "attachments": {},
   "cell_type": "markdown",
   "metadata": {},
   "source": [
    "Then we compute $\\bar X_n$ for each value of $n$ and store the results in `xbar`:"
   ]
  },
  {
   "cell_type": "code",
   "execution_count": null,
   "metadata": {
    "vscode": {
     "languageId": "r"
    }
   },
   "outputs": [],
   "source": [
    "xbar <- cumsum(x)/(1:nsim)"
   ]
  },
  {
   "attachments": {},
   "cell_type": "markdown",
   "metadata": {},
   "source": [
    "The above line of code performs elementwise division of the two vectors `cumsum(x)` and `1:nsim`. Finally, we plot `xbar` against the number of coin tosses:"
   ]
  },
  {
   "cell_type": "code",
   "execution_count": null,
   "metadata": {
    "vscode": {
     "languageId": "r"
    }
   },
   "outputs": [],
   "source": [
    "plot(1:nsim,xbar,type=\"l\",ylim=c(0,1))"
   ]
  },
  {
   "attachments": {},
   "cell_type": "markdown",
   "metadata": {},
   "source": [
    "You should see that the values of `xbar` approach `p`, by the LLN."
   ]
  },
  {
   "attachments": {},
   "cell_type": "markdown",
   "metadata": {},
   "source": [
    "## Monte Carlo estimate of $\\pi$"
   ]
  },
  {
   "attachments": {},
   "cell_type": "markdown",
   "metadata": {},
   "source": [
    "A famous example of Monte Carlo integration is the Monte Carlo estimate of $\\pi$. The unit disk ${(x,y): x^2 + y^2 \\leq 1}$ is inscribed in the square $[−1,1] \\times [−1,1]$, which has area $4$. If we generate a large number of points that are Uniform on the square, the proportion of points falling inside the disk is approximately equal to the ratio of the disk's area to the square's area, which is $\\pi/4$. Thus, to estimate $\\pi$ we can take the proportion of points inside the circle and multiply by 4."
   ]
  },
  {
   "attachments": {},
   "cell_type": "markdown",
   "metadata": {},
   "source": [
    "In R, to generate Uniform points on the 2D square, we can independently generate the $x$-coordinate and the $y$-coordinate as $\\text{Unif}(−1,1)$ r.v.s, using the results of Example 7.1.23:"
   ]
  },
  {
   "cell_type": "code",
   "execution_count": null,
   "metadata": {
    "vscode": {
     "languageId": "r"
    }
   },
   "outputs": [],
   "source": [
    "nsim <- 10^6\n",
    "x <- runif(nsim,-1,1)\n",
    "y <- runif(nsim,-1,1)"
   ]
  },
  {
   "attachments": {},
   "cell_type": "markdown",
   "metadata": {},
   "source": [
    "To count the number of points in the disk, we type `sum(x^2+y^2<1)`. The vector `x^2+y^2<1` is an indicator vector whose $i\\text{th}$ element is $1$ if the $i\\text{th}$ point falls inside the disk and $0$ otherwise, so the sum of the elements is the number of points in the disk. To get our estimate of $\\pi$, we convert the sum into a proportion and multiply by $4$:"
   ]
  },
  {
   "cell_type": "code",
   "execution_count": null,
   "metadata": {
    "vscode": {
     "languageId": "r"
    }
   },
   "outputs": [],
   "source": [
    "4*sum(x^2+y^2<1)/nsim"
   ]
  },
  {
   "attachments": {},
   "cell_type": "markdown",
   "metadata": {},
   "source": [
    "How close was your estimate to the actual value of $\\pi$?"
   ]
  },
  {
   "attachments": {},
   "cell_type": "markdown",
   "metadata": {},
   "source": [
    "## Visualizations of the central limit theorem"
   ]
  },
  {
   "attachments": {},
   "cell_type": "markdown",
   "metadata": {},
   "source": [
    "One way to visualize the central limit theorem for a distribution of interest is to plot the distribution of $\\bar X_n$ for various values of $n$, as in Figure 10.5. To do this, we first have to generate i.i.d. $X_1,\\ldots,X_n$ a bunch of times from our distribution of interest. For example, suppose that our distribution of interest is $\\text{Unif}(0,1)$, and we are interested in the distribution of $\\bar X_{12}$, i.e., we set $n= 12$. In the following code, we create a matrix of i.i.d. standard Uniforms. The matrix has $12$ columns, corresponding to $X_1$ through $X_{12}$. Each row of the matrix is a different realization of $X_1$ through $X_{12}$."
   ]
  },
  {
   "cell_type": "code",
   "execution_count": null,
   "metadata": {
    "vscode": {
     "languageId": "r"
    }
   },
   "outputs": [],
   "source": [
    "nsim <- 10^4\n",
    "n <- 12\n",
    "x <- matrix(runif(n*nsim), nrow=nsim, ncol=n)"
   ]
  },
  {
   "attachments": {},
   "cell_type": "markdown",
   "metadata": {},
   "source": [
    "Now, to obtain realizations of $\\bar X_{12}$, we simply take the average of each row of the matrix `x`; we can do this with the `rowMeans` function:"
   ]
  },
  {
   "cell_type": "code",
   "execution_count": null,
   "metadata": {
    "vscode": {
     "languageId": "r"
    }
   },
   "outputs": [],
   "source": [
    "xbar <- rowMeans(x)"
   ]
  },
  {
   "cell_type": "markdown",
   "metadata": {},
   "source": [
    "Finally, we create a histogram:"
   ]
  },
  {
   "cell_type": "code",
   "execution_count": null,
   "metadata": {
    "vscode": {
     "languageId": "r"
    }
   },
   "outputs": [],
   "source": [
    "hist(xbar)"
   ]
  },
  {
   "attachments": {},
   "cell_type": "markdown",
   "metadata": {},
   "source": [
    "You should see a histogram that looks approximately Normal. Since the $\\text{Unif}(0,1)$ distribution is symmetric, the CLT kicks in quickly and the Normal approximation for $\\bar X_n$ works  well, even for $n=12$. Changing `runif` to `rexp`, we see that for $X_j \\sim \\text{Expo}(1)$, the distribution of $\\bar X_n$ remains skewed when $n=12$, so a larger value of $n$ is required before the Normal approximation is decent."
   ]
  },
  {
   "attachments": {},
   "cell_type": "markdown",
   "metadata": {},
   "source": [
    "Another neat visualization of the CLT can be found in the `animation` package. This package has a built-in animation of a _quincunx_ or _bean machine_, invented by the statistician and geneticist Francis Galton to illustrate the Normal distribution. After installing the package, try:\n",
    "```\n",
    "library(animation)\n",
    "quincunx()\n",
    "```\n",
    "(The code has not been put into an R cell in this notebook, because the animation will not run correctly here. The code above can be typed directly into an R interpreter if you have R installed on your machine. Alternatively, the quincunx R package links to the following visualization: [https://www.mathsisfun.com/data/quincunx.html](https://www.mathsisfun.com/data/quincunx.html).)"
   ]
  },
  {
   "attachments": {},
   "cell_type": "markdown",
   "metadata": {},
   "source": [
    "Can you use the central limit theorem to explain why the histogram produced by a quincunx should look approximately Normal?"
   ]
  },
  {
   "attachments": {},
   "cell_type": "markdown",
   "metadata": {},
   "source": [
    "## Chi-Square and Student-$t$ distributions"
   ]
  },
  {
   "attachments": {},
   "cell_type": "markdown",
   "metadata": {},
   "source": [
    "Although the Chi-Square is just a special case of the Gamma, it still has its own functions `dchisq`, `pchisq`, and `rchisq` in R: `dchisq(x,n)` and `pchisq(x,n)` return the values of the $\\chi^2_n$ PDF and CDF at $x$, and `rchisq(nsim,n)` generates `nsim` i.i.d. $\\chi^2_n$ r.v.s."
   ]
  },
  {
   "attachments": {},
   "cell_type": "markdown",
   "metadata": {},
   "source": [
    "The Student-$t$ distribution has functions `dt`, `pt`, and `rt`. To evaluate the PDF or CDF of the $t_n$ distribution at $x$, we use `dt(x,n)` or `pt(x,n)`. To generate `nsim` i.i.d. r.v.s from the $t_n$ distribution, we use `rt(nsim,n)`. Of course, `dt(x,1)` is the same as `dcauchy(x)`."
   ]
  }
 ],
 "metadata": {
  "kernelspec": {
   "display_name": "R",
   "language": "R",
   "name": "ir"
  },
  "language_info": {
   "codemirror_mode": "r",
   "file_extension": ".r",
   "mimetype": "text/x-r-source",
   "name": "R",
   "pygments_lexer": "r",
   "version": "4.2.2"
  },
  "orig_nbformat": 4
 },
 "nbformat": 4,
 "nbformat_minor": 2
}
