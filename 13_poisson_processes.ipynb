{
 "cells": [
  {
   "cell_type": "markdown",
   "metadata": {},
   "source": [
    "# Chapter 13: Poisson processes"
   ]
  },
  {
   "attachments": {},
   "cell_type": "markdown",
   "metadata": {},
   "source": [
    "## 1D Poisson process"
   ]
  },
  {
   "attachments": {},
   "cell_type": "markdown",
   "metadata": {},
   "source": [
    "In Chapter 5, we discussed how to simulate a specified number of arrivals from a one-dimensional Poisson process by using the fact that the interarrival times are i.i.d. Exponentials. In this chapter, Story 13.2.4 tells us how to simulate a Poisson process within a specified interval $(0,L]$. We first generate the number of arrivals $N(L)$, which is distributed $\\text{Pois}(\\lambda L)$. Conditional on $N(L) =n$, the arrival times are distributed as the order statistics of $n$ i.i.d. $\\text{Unif}(0,L)$ r.v.s. The following code simulates arrivals from a Poisson process with rate $10$ in the interval $(0,5]$:"
   ]
  },
  {
   "cell_type": "code",
   "execution_count": null,
   "metadata": {
    "vscode": {
     "languageId": "r"
    }
   },
   "outputs": [],
   "source": [
    "L <- 5\n",
    "lambda <- 10\n",
    "n <- rpois(1,lambda*L)\n",
    "t <- sort(runif(n,0,L))"
   ]
  },
  {
   "attachments": {},
   "cell_type": "markdown",
   "metadata": {},
   "source": [
    "To visualize the Poisson process we have generated, we can plot the cumulative number of arrivals $N(t)$ as a function of $t$:"
   ]
  },
  {
   "cell_type": "code",
   "execution_count": null,
   "metadata": {
    "vscode": {
     "languageId": "r"
    }
   },
   "outputs": [],
   "source": [
    "plot(t,1:n,type=\"s\")"
   ]
  },
  {
   "attachments": {},
   "cell_type": "markdown",
   "metadata": {},
   "source": [
    "This produces a staircase plot as in Figure 13.8."
   ]
  },
  {
   "attachments": {},
   "cell_type": "markdown",
   "metadata": {},
   "source": [
    "## Thinning"
   ]
  },
  {
   "attachments": {},
   "cell_type": "markdown",
   "metadata": {},
   "source": [
    "It is straightforward to thin a Poisson process in R. The following code starts with a vector of arrival times $\\mathbf t$ and the corresponding number of arrivals $n$ from a Poisson process of rate $\\lambda$ on some interval, generated as above. For each arrival, we flip a coin with probability $p$ of Heads; these coin tosses are stored in the vector $\\mathbf y$. Finally, the arrivals for which the coin landed Heads are labeled as type-$1$; the rest are labeled as type-$2$. The resulting vectors of arrival times, $\\mathbf t_1$ and $\\mathbf t_2$, are realizations of independent Poisson processes of rates $\\lambda p$ and $\\lambda (1−p)$, by Theorem 13.2.14.\n"
   ]
  },
  {
   "attachments": {},
   "cell_type": "markdown",
   "metadata": {},
   "source": [
    "We can carry out this procedure for $p= 0.3$ as follows:"
   ]
  },
  {
   "cell_type": "code",
   "execution_count": null,
   "metadata": {
    "vscode": {
     "languageId": "r"
    }
   },
   "outputs": [],
   "source": [
    "p <- 0.3\n",
    "y <- rbinom(n,1,p)\n",
    "t1 <- t[y==1]\n",
    "t2 <- t[y==0]"
   ]
  },
  {
   "cell_type": "markdown",
   "metadata": {},
   "source": [
    "## 2D Poisson process"
   ]
  },
  {
   "attachments": {},
   "cell_type": "markdown",
   "metadata": {},
   "source": [
    "Simulating a 2D Poisson process of rate $\\lambda$ on a square is nearly as easy as simulating a 1D Poisson process. In the square $(0,L] \\times (0,L]$, the number of arrivals is distributed $\\text{Pois}(\\lambda L^2)$. Conditional on the number of arrivals, the locations of the arrivals are i.i.d. Uniform points in the square. By Example 7.1.23, the coordinates for each of these points are i.i.d. $\\text{Unif}(0,L)$. So for $L= 5, \\lambda= 10,$ we can type:"
   ]
  },
  {
   "cell_type": "code",
   "execution_count": null,
   "metadata": {
    "vscode": {
     "languageId": "r"
    }
   },
   "outputs": [],
   "source": [
    "L <- 5\n",
    "lambda <- 10\n",
    "n <- rpois(1,lambda*L^2)\n",
    "x <- runif(n,0,L)\n",
    "y <- runif(n,0,L)"
   ]
  }
 ],
 "metadata": {
  "kernelspec": {
   "display_name": "R",
   "language": "R",
   "name": "ir"
  },
  "language_info": {
   "codemirror_mode": "r",
   "file_extension": ".r",
   "mimetype": "text/x-r-source",
   "name": "R",
   "pygments_lexer": "r",
   "version": "4.2.2"
  },
  "orig_nbformat": 4
 },
 "nbformat": 4,
 "nbformat_minor": 2
}
