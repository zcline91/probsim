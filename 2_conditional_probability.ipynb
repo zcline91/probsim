{
 "cells": [
  {
   "attachments": {},
   "cell_type": "markdown",
   "metadata": {},
   "source": [
    "# Chapter 2: Conditional probability"
   ]
  },
  {
   "attachments": {},
   "cell_type": "markdown",
   "metadata": {},
   "source": [
    "## Simulating the frequentist interpretation"
   ]
  },
  {
   "attachments": {},
   "cell_type": "markdown",
   "metadata": {},
   "source": [
    "Recall that the frequentist interpretation of conditional probability based on a large number $n$ of repetitions of an experiment is $P(A|B) \\approx n_{AB} / n_B$, where $n_{AB}$ is the number of times that $A \\cap B$ occurs and $n_B$ is the number of times that $B$ occurs. Let's try this out by simulation, and verify the results of Example 2.2.5. So let's simulate $n$ families, each with two children."
   ]
  },
  {
   "cell_type": "code",
   "execution_count": null,
   "metadata": {
    "vscode": {
     "languageId": "r"
    }
   },
   "outputs": [],
   "source": [
    "n <- 10^5\n",
    "child1 <- sample(2,n,replace=TRUE)\n",
    "child2 <- sample(2,n,replace=TRUE)"
   ]
  },
  {
   "attachments": {},
   "cell_type": "markdown",
   "metadata": {},
   "source": [
    "Here `child1` is a vector of length $n$, where each element is a $1$ or a $2$. Letting $1$ stand for \"girl\" and $2$ stand for \"boy\", this vector represents the gender of the elder child in each of the $n$ families. Similarly, `child2` represents the gender of the younger child in each family."
   ]
  },
  {
   "attachments": {},
   "cell_type": "markdown",
   "metadata": {},
   "source": [
    "Alternatively, we could have used"
   ]
  },
  {
   "cell_type": "code",
   "execution_count": null,
   "metadata": {
    "vscode": {
     "languageId": "r"
    }
   },
   "outputs": [],
   "source": [
    "sample(c(\"girl\",\"boy\"),n,replace=TRUE)"
   ]
  },
  {
   "cell_type": "markdown",
   "metadata": {},
   "source": [
    "but it is more convenient working with numerical values."
   ]
  },
  {
   "attachments": {},
   "cell_type": "markdown",
   "metadata": {},
   "source": [
    "Let $A$ be the event that both children are girls and $B$ the event that the elder is a girl. Following the frequentist interpretation, we count the number of repetitions where $B$ occurred and name it `n.b`, and we also count the number of repetitions where $A \\cap B$ occurred and name it `n.ab`. Finally, we divide `n.ab` by `n.b` to approximate $P(A|B)$."
   ]
  },
  {
   "cell_type": "code",
   "execution_count": null,
   "metadata": {
    "vscode": {
     "languageId": "r"
    }
   },
   "outputs": [],
   "source": [
    "n.b <- sum(child1==1)\n",
    "n.ab <- sum(child1==1 & child2==1)\n",
    "n.ab/n.b"
   ]
  },
  {
   "attachments": {},
   "cell_type": "markdown",
   "metadata": {},
   "source": [
    "The ampersand `&` is an elementwise AND, so `n.ab` is the number of families where both the first child and the second child are girls. When we ran this code, we got $0.50$, which agrees with $P(\\text{both girls}|\\text{elder is a girl}) = 1/2$."
   ]
  },
  {
   "attachments": {},
   "cell_type": "markdown",
   "metadata": {},
   "source": [
    "Now let $A$ be the event that both children are girls and $B$ the event that at least one of the children is a girl. Then $A \\cap B$ is the same, but `n.b` needs to count the number of families where at least one child is a girl. This is accomplished with the elementwise OR operator `|` (this is _not_ a conditioning bar; it is an inclusive OR, returning TRUE if at least one element is TRUE)."
   ]
  },
  {
   "cell_type": "code",
   "execution_count": null,
   "metadata": {
    "vscode": {
     "languageId": "r"
    }
   },
   "outputs": [],
   "source": [
    "n.b <- sum(child1==1 | child2==1)\n",
    "n.ab <- sum(child1==1 & child2==1)\n",
    "n.ab/n.b"
   ]
  },
  {
   "attachments": {},
   "cell_type": "markdown",
   "metadata": {},
   "source": [
    "We got $0.33$, which agrees with $P(\\text{both girls}|\\text{at least one girl}) = 1/3$."
   ]
  },
  {
   "attachments": {},
   "cell_type": "markdown",
   "metadata": {},
   "source": [
    "## Monty Hall simulation"
   ]
  },
  {
   "attachments": {},
   "cell_type": "markdown",
   "metadata": {},
   "source": [
    "Many long, bitter debates about the Monty Hall problem could have been averted by _trying it out_ with a simulation. To study how well the never-switch strategy performs, let's generate $10^5$ runs of the Monty Hall game. To simplify notation, assume the contestant always chooses door $1$. Then we can generate a vector specifying which door has the car for each repetition:"
   ]
  },
  {
   "cell_type": "code",
   "execution_count": null,
   "metadata": {
    "vscode": {
     "languageId": "r"
    }
   },
   "outputs": [],
   "source": [
    "n <- 10^5\n",
    "cardoor <- sample(3,n,replace=TRUE)"
   ]
  },
  {
   "attachments": {},
   "cell_type": "markdown",
   "metadata": {},
   "source": [
    "At this point we could generate the vector specifying which doors Monty opens, but that's unnecessary since the never-switch strategy succeeds if and only if door 1 has the car! So the fraction of times when the never-switch strategy succeeds is `sum(cardoor==1)/n`, which was $0.334$ in our simulation. This is very close to thetrue value, $1/3$."
   ]
  },
  {
   "attachments": {},
   "cell_type": "markdown",
   "metadata": {},
   "source": [
    "What if we want to _play_ the Monty Hall game interactively? We can do this by programming a _function_. Entering the following code in R defines a function called `monty`, which can then be invoked by entering the command `monty()` any time you feel like playing the game!\n",
    "```{r}\n",
    "monty <- function() {\n",
    "    doors <- 1:3\n",
    "    \n",
    "    # randomly pick where the car is\n",
    "    cardoor <- sample(doors,1)\n",
    "    \n",
    "    # prompt player\n",
    "    print(\"Monty Hall says 'Pick a door, any door!'\")\n",
    "    \n",
    "    # receive the player's choice of door (should be 1,2, or 3)\n",
    "    chosen <- scan(what = integer(), nlines = 1, quiet = TRUE)\n",
    "    \n",
    "    # pick Monty's door (can't be the player's door or the car door)\n",
    "    if (chosen != cardoor) montydoor <- doors[-c(chosen, cardoor)]\n",
    "    else montydoor <- sample(doors[-chosen],1)\n",
    "    \n",
    "    # find out whether the player wants to switch doors\n",
    "    print(paste(\"Monty opens door \", montydoor, \"!\", sep=\"\"))\n",
    "    print(\"Would you like to switch (y/n)?\")\n",
    "    reply <- scan(what = character(), nlines = 1, quiet = TRUE)\n",
    "    \n",
    "    # interpret what player wrote as \"yes\" if it starts with \"y\"\n",
    "    if (substr(reply,1,1) == \"y\"){\n",
    "        chosen <- doors[-c(chosen,montydoor)]\n",
    "    }\n",
    "    \n",
    "    # announce the result of the game!\n",
    "    if (chosen == cardoor) print(\"You won!\")\n",
    "    else print(\"You lost!\")\n",
    "}\n",
    "```"
   ]
  },
  {
   "attachments": {},
   "cell_type": "markdown",
   "metadata": {},
   "source": [
    "The `print` command prints its argument to the screen. We combine this with the `paste` command since if we used `print(\"Monty opens door montydoor\")` then R would literally print \"Monty opens door montydoor\". The `scan` command interactively requests input from the user; we use `what = integer()` when we want the user to enter an integer and `what = character()` when we want the user to enter text. Using `substr(reply,1,1)` extracts the first character of `reply`, in case the user replies with \"yes\" or \"yep\" or \"yeah!\" rather than with \"y\"."
   ]
  },
  {
   "attachments": {},
   "cell_type": "markdown",
   "metadata": {},
   "source": [
    "The following cells will run this code in Google Colab. To run the simulation:\n",
    "1. Choose a door (1, 2, or 3) from the dropdown list of the first cell, and run the cell. The output will tell you which door Monty then opens.\n",
    "2. In the second cell, decide if you would like to switch to the remaining door or stick with your original choice. Select your choice from the dropdown list (yes/no) and run the cell to see if you won or lost.\n",
    "\n",
    "Repeat the previous steps to repeat the simulation.\n",
    "\n",
    "(Outside of Google Colab, the simulation can be run simply changing the value of `chosen` in the first cell and `reply` in the second cell, and then running the cells.)"
   ]
  },
  {
   "cell_type": "code",
   "execution_count": null,
   "metadata": {
    "vscode": {
     "languageId": "r"
    }
   },
   "outputs": [],
   "source": [
    "#@title Monty Hall says 'Pick a door, any door!' { vertical-output: true, display-mode: \"form\" }\n",
    "doors <- 1:3\n",
    "cardoor <- sample(doors,1) \n",
    "\n",
    "chosen <- 1 #@param [\"1\", \"2\", \"3\"] {type:\"raw\"}\n",
    "\n",
    "if (chosen != cardoor) {\n",
    "  montydoor <- doors[-c(chosen, cardoor)]\n",
    "} else {\n",
    "  montydoor <- sample(doors[-chosen],1)\n",
    "}\n",
    "\n",
    "print(paste(\"Monty opens door \", montydoor, \"!\", sep=\"\"))"
   ]
  },
  {
   "cell_type": "code",
   "execution_count": null,
   "metadata": {
    "vscode": {
     "languageId": "r"
    }
   },
   "outputs": [],
   "source": [
    "#@title Would you like to switch? { vertical-output: true, display-mode: \"form\" }\n",
    "reply <- \"yes\" #@param [\"yes\", \"no\"] {type:\"string\"}\n",
    "\n",
    "if (reply == \"yes\") {\n",
    "  chosen <- doors[-c(chosen,montydoor)]\n",
    "}\n",
    "\n",
    "if (chosen == cardoor) {\n",
    "  print(\"You won!\")\n",
    "} else {\n",
    "  print(\"You lost!\")\n",
    "}"
   ]
  },
  {
   "cell_type": "code",
   "execution_count": null,
   "metadata": {
    "vscode": {
     "languageId": "r"
    }
   },
   "outputs": [],
   "source": []
  }
 ],
 "metadata": {
  "kernelspec": {
   "display_name": "R",
   "language": "R",
   "name": "ir"
  },
  "language_info": {
   "codemirror_mode": "r",
   "file_extension": ".r",
   "mimetype": "text/x-r-source",
   "name": "R",
   "pygments_lexer": "r",
   "version": "4.2.2"
  },
  "orig_nbformat": 4,
  "vscode": {
   "interpreter": {
    "hash": "1161f88fbe5a3dd22f01e3205faf1a9ba56c0aeb9c95b27237d8c52825ef7c3a"
   }
  }
 },
 "nbformat": 4,
 "nbformat_minor": 2
}
