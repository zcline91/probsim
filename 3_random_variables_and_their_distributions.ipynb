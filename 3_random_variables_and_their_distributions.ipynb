{
 "cells": [
  {
   "attachments": {},
   "cell_type": "markdown",
   "metadata": {},
   "source": [
    "# Chapter 3: Random variables and their distributions"
   ]
  },
  {
   "attachments": {},
   "cell_type": "markdown",
   "metadata": {},
   "source": [
    "## Distributions in R"
   ]
  },
  {
   "attachments": {},
   "cell_type": "markdown",
   "metadata": {},
   "source": [
    "All of the named distributions that we'll encounter in this book have been implemented in R. In this section we'll explain how to work with the Binomial and Hypergeometric distributions in R. We will also explain in general how to generate r.v.s from any discrete distribution with a finite support. Typing `help(distributions)` gives a handy list of built-in distributions; many others are available through R packages that can be loaded."
   ]
  },
  {
   "attachments": {},
   "cell_type": "markdown",
   "metadata": {},
   "source": [
    "In general, for many named discrete distributions, three functions starting with `d`, `p`, and `r` will give the PMF, CDF, and random generation, respectively. Note that the function starting with `p` is not the PMF, but rather is the CDF."
   ]
  },
  {
   "attachments": {},
   "cell_type": "markdown",
   "metadata": {},
   "source": [
    "## Binomial distribution"
   ]
  },
  {
   "attachments": {},
   "cell_type": "markdown",
   "metadata": {},
   "source": [
    "The Binomial distribution is associated with the following three R functions: `dbinom`, `pbinom`, and `rbinom`. For the Bernoulli distribution we can just use the Binomial functions with $n= 1$.\n",
    "\n",
    "- `dbinom` is the Binomial PMF. It takes three inputs: the first is the value of $x$ at which to evaluate the PMF, and the second and third are the parameters $n$ and $p$. For example, `dbinom(3,5,0.2)` returns the probability $P(X= 3)$ where $X \\sim \\text{Bin}(5,0.2)$. In other words, $$\\texttt{dbinom(3,5,0.2)} = \\binom 5 3 (0.2)^3(0.8)^2 = 0.0512.$$\n",
    "- `pbinom` is the Binomial CDF. It takes three inputs: the first is the value of $x$ at which to evaluate the CDF, and the second and third are the parameters. `pbinom(3,5,0.2)` is the probability $P(X \\leq 3)$ where $X \\sim \\text{Bin}(5,0.2)$. So $$\\texttt{pbinom(3,5,0.2)} = \\sum_{k=0}^3 \\binom 5 k (0.2)^k (0.8)^{5−k} = 0.9933.$$\n",
    "- `rbinom` is a function for generating Binomial random variables. For `rbinom`, the first input is how many r.v.s we want to generate, and the second and third inputs are still the parameters. Thus the command `rbinom(7,5,0.2)` produces realizations of seven i.i.d. $\\text{Bin}(5,0.2)$ r.v.s. When we ran this command, we got `2 1 0 0 1 0 0` but you'll probably get something different when you try it!"
   ]
  },
  {
   "attachments": {},
   "cell_type": "markdown",
   "metadata": {},
   "source": [
    "We can also evaluate PMFs and CDFs at an entire vector of values.  For example, recall that `0:n` is a quick way to list the integers from $0$ to $n$. The command `dbinom(0:5,5,0.2)` returns 6 numbers, $P(X= 0), P(X= 1), \\ldots , P(X= 5)$, where $X \\sim \\text{Bin}(5,0.2)$."
   ]
  },
  {
   "attachments": {},
   "cell_type": "markdown",
   "metadata": {},
   "source": [
    "## Hypergeometric distribution"
   ]
  },
  {
   "attachments": {},
   "cell_type": "markdown",
   "metadata": {},
   "source": [
    "The Hypergeometric distribution also has three functions: `dhyper`, `phyper`, and `rhyper`. As one might expect, `dhyper` is the Hypergeometric PMF, `phyper` is the Hypergeometric CDF, and `rhyper` generates Hypergeometric r.v.s. Since the Hypergeometric distribution has three parameters, each of these functions takes four inputs. For `dhyper` and `phyper`, the first input is the value at which we wish to evaluate the PMF or CDF, and the remaining inputs are the parameters of the distribution."
   ]
  },
  {
   "attachments": {},
   "cell_type": "markdown",
   "metadata": {},
   "source": [
    "Thus `dhyper(k,w,b,n)` returns $P(X=k)$ where $X \\sim \\text{HGeom}(w,b,n)$, and `phyper(k,w,b,n)` returns $P(X \\leq k)$. For `rhyper`, the first input is the number of r.v.s we want to generate, and the remaining inputs are the parameters; `rhyper(100,w,b,n)` generates 100 i.i.d. $\\text{HGeom}(w,b,n)$ r.v.s."
   ]
  },
  {
   "attachments": {},
   "cell_type": "markdown",
   "metadata": {},
   "source": [
    "## Discrete distributions with finite support"
   ]
  },
  {
   "attachments": {},
   "cell_type": "markdown",
   "metadata": {},
   "source": [
    "We can generate r.v.s from _any_ discrete distribution with finite support using the `sample` command. When we first introduced the `sample` command, we said that it can be used in the form `sample(n,k)` or `sample(n,k,replace=TRUE)` to sample $k$ times from the integers $1$ through $n$, either without or with replacement. For example, to generate $5$ independent $\\text{DUnif}(1,2,...,100)$ r.v.s, we can use the command `sample(100,5,replace=TRUE)`."
   ]
  },
  {
   "attachments": {},
   "cell_type": "markdown",
   "metadata": {},
   "source": [
    "It turns out that `sample` is far more versatile. If we want to sample from the values $x_1, \\ldots , x_n$ with probabilities $p_1,\\ldots , p_n$, we simply create a vector `x` containing all the $x_i$ and a vector `p` containing all the $p_i$, then feed them into `sample`. Suppose we want realizations of i.i.d. r.v.s $X_1, \\ldots, X_{100}$ whose PMF is $$\n",
    "\\begin{gather*}\n",
    "    P(X_j = 0) = 0.25, \\\\\n",
    "    P(X_j = 1) = 0.5, \\\\\n",
    "    P(X_j = 5) = 0.1, \\\\\n",
    "    P(X_j = 10) = 0.15, \\\\\n",
    "\\end{gather*}$$\n",
    "and $P(X_j = x) = 0$ for all other values of $x$. First, we use the `c` function to create vectors with the support of the distribution and the corresponding probabilities."
   ]
  },
  {
   "cell_type": "code",
   "execution_count": null,
   "metadata": {
    "vscode": {
     "languageId": "r"
    }
   },
   "outputs": [],
   "source": [
    "x <- c(0,1,5,10)\n",
    "p <- c(0.25,0.5,0.1,0.15)"
   ]
  },
  {
   "attachments": {},
   "cell_type": "markdown",
   "metadata": {},
   "source": [
    "Next, we use `sample`. Here's how to get 100 draws from the PMF above:"
   ]
  },
  {
   "cell_type": "code",
   "execution_count": null,
   "metadata": {
    "vscode": {
     "languageId": "r"
    }
   },
   "outputs": [],
   "source": [
    "sample(x,100,prob=p,replace=TRUE)"
   ]
  },
  {
   "attachments": {},
   "cell_type": "markdown",
   "metadata": {},
   "source": [
    "The inputs are the vector `x` to sample from, the sample size ($100$ in this case), the probabilities `p` to use when sampling from `x` (if this is omitted, the probabilities are assumed equal), and whether to sample with replacement."
   ]
  }
 ],
 "metadata": {
  "kernelspec": {
   "display_name": "R",
   "language": "R",
   "name": "ir"
  },
  "language_info": {
   "codemirror_mode": "r",
   "file_extension": ".r",
   "mimetype": "text/x-r-source",
   "name": "R",
   "pygments_lexer": "r",
   "version": "4.2.2"
  },
  "orig_nbformat": 4,
  "vscode": {
   "interpreter": {
    "hash": "1161f88fbe5a3dd22f01e3205faf1a9ba56c0aeb9c95b27237d8c52825ef7c3a"
   }
  }
 },
 "nbformat": 4,
 "nbformat_minor": 2
}
