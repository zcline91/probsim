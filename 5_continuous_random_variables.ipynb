{
 "cells": [
  {
   "attachments": {},
   "cell_type": "markdown",
   "metadata": {},
   "source": [
    "# Chapter 5: Continuous random variables"
   ]
  },
  {
   "attachments": {},
   "cell_type": "markdown",
   "metadata": {},
   "source": [
    "In this section we will introduce continuous distributions in R, learn how to make basic plots, demonstrate the universality of the Uniform by simulation, and simulate arrival times in a Poisson process."
   ]
  },
  {
   "attachments": {},
   "cell_type": "markdown",
   "metadata": {},
   "source": [
    "## Uniform, Normal, and Exponential distributions"
   ]
  },
  {
   "attachments": {},
   "cell_type": "markdown",
   "metadata": {},
   "source": [
    "For continuous distributions, the function that starts with `d` is the PDF instead of the PMF. Thus, we have the following functions:\n",
    "\n",
    "- `dunif`, `punif`, `runif`. To evaluate the $\\text{Unif}(a,b)$ PDF at $x$, we use `dunif(x,a,b)`. For the CDF, we use `punif(x,a,b)`. To generate $n$ realizations from the $\\text{Unif}(a,b)$ distribution, we use `runif(n,a,b)`.\n",
    "- `dnorm`, `pnorm`, `rnorm`. To evaluate the $\\mathcal N(\\mu, \\sigma^2)$ PDF at $x$, we use `dnorm(x,mu,sigma)`, where `mu` is  the mean $\\mu$ and `sigma` is the _standard deviation_ (not variance) $\\sigma$. For the CDF, we use `pnorm(x,mu,sigma)`. To generate $n$ realizations from the $\\mathcal N(\\mu, \\sigma^2)$ distribution, we use `rnorm(n,mu,sigma)`. <br/> <br/>\n",
    "__WARNING__ (Normal parameters in R). Note that we have to input the standard deviation, not the variance! For example, to get the $\\mathcal N(\\mu, \\sigma^2)$ CDF at $12$, we use `pnorm(12,10,sqrt(3))`. Ignoring this is a common, disastrous coding error. <br/> <br/>\n",
    "- `dexp`, `pexp`, `rexp`. To evaluate the $\\text{Expo}(\\lambda)$ PDF at $x$, we use `dexp(x,lambda)`. For the CDF, we use `pexp(x,lambda)`. To generate $n$ realizations from the $\\text{Expo}(\\lambda)$ distribution, we use `rexp(n,lambda)`."
   ]
  },
  {
   "attachments": {},
   "cell_type": "markdown",
   "metadata": {},
   "source": [
    "Due to the importance of location-scale transformations for  continuous distributions, R has default parameter settings for each of these three families. The default for the Uniform is $\\text{Unif}(0,1)$, the default for the Normal is $\\mathcal N(0,1)$, and the default for the Exponential is $\\text{Expo}(1)$. For example, `dunif(0.5)`, with no additional inputs, evaluates the $\\text{Unif}(0,1)$ PDF at 0.5, and `rnorm(10)`, with no additional inputs, generates $10$ realizations from the $\\mathcal N(0,1)$ distribution. This means there are two ways to generate a $\\mathcal N(\\mu, \\sigma^2)$ random variable in R. After choosing our values of $\\mu$ and $\\sigma$, such as"
   ]
  },
  {
   "cell_type": "code",
   "execution_count": null,
   "metadata": {
    "vscode": {
     "languageId": "r"
    }
   },
   "outputs": [],
   "source": [
    "mu <- 1\n",
    "sigma <- 2"
   ]
  },
  {
   "attachments": {},
   "cell_type": "markdown",
   "metadata": {},
   "source": [
    "we can do either of the following:"
   ]
  },
  {
   "cell_type": "code",
   "execution_count": null,
   "metadata": {
    "vscode": {
     "languageId": "r"
    }
   },
   "outputs": [],
   "source": [
    "rnorm(1,mu,sigma)\n",
    "mu + sigma*rnorm(1)"
   ]
  },
  {
   "attachments": {},
   "cell_type": "markdown",
   "metadata": {},
   "source": [
    "Either way, we end up generating a draw from the $\\mathcal N(\\mu, \\sigma^2)$ distribution."
   ]
  },
  {
   "attachments": {},
   "cell_type": "markdown",
   "metadata": {},
   "source": [
    "## Plots in R"
   ]
  },
  {
   "attachments": {},
   "cell_type": "markdown",
   "metadata": {},
   "source": [
    "A simple way to plot a function in R is with the `curve` command. For example,"
   ]
  },
  {
   "cell_type": "code",
   "execution_count": null,
   "metadata": {
    "vscode": {
     "languageId": "r"
    }
   },
   "outputs": [],
   "source": [
    "curve(dnorm, from=-3, to=3, n=1000)"
   ]
  },
  {
   "attachments": {},
   "cell_type": "markdown",
   "metadata": {},
   "source": [
    "creates a plot of the standard Normal PDF from $−3$ to $3$. What is actually happening is that R evaluates the function at a finite number of closely spaced points and connects the points with very short lines to create the illusion of a curve. The input `n=1000` tells R to evaluate at $1000$ points so that the curve looks very smooth; if we were to choose `n=20`, the piecewise linearity would become very apparent."
   ]
  },
  {
   "attachments": {},
   "cell_type": "markdown",
   "metadata": {},
   "source": [
    "Another command that creates plots is called, fittingly, `plot`. This command has many, many possible inputs to customize what the plot looks like; for the sake of demonstration, we'll plot the standard Normal PDF once again, using `plot` instead of `curve`."
   ]
  },
  {
   "attachments": {},
   "cell_type": "markdown",
   "metadata": {},
   "source": [
    "The most important inputs to `plot` are a vector of $x$ values and a vector of $y$ values to plot. A useful command for this purpose is `seq`. As introduced in Chapter 1, `seq(a,b,d)` creates the vector of values ranging from `a` to `b`, with successive entries spaced apart by `d`."
   ]
  },
  {
   "cell_type": "code",
   "execution_count": null,
   "metadata": {
    "vscode": {
     "languageId": "r"
    }
   },
   "outputs": [],
   "source": [
    "x <- seq(-3,3,0.01)\n",
    "y <- dnorm(x)"
   ]
  },
  {
   "attachments": {},
   "cell_type": "markdown",
   "metadata": {},
   "source": [
    "So `x` consists of all numbers from $−3$ to $3$, spaced $0.01$ apart, and `y` contains the values of the Normal PDF at each of the points in `x`. Now we simply plot the two with `plot(x,y)`. The default is a scatterplot. For a line plot, we use `plot(x,y,type=\"l\")`. We can also set the axis labels and plot title with `xlab`, `ylab`, and `main`."
   ]
  },
  {
   "cell_type": "code",
   "execution_count": null,
   "metadata": {
    "vscode": {
     "languageId": "r"
    }
   },
   "outputs": [],
   "source": [
    "plot(x,y,type=\"l\",xlab=\"x\",ylab=\"dnorm(x)\",main=\"N(0,1) PDF\")"
   ]
  },
  {
   "attachments": {},
   "cell_type": "markdown",
   "metadata": {},
   "source": [
    "The axis limits can be set manually with `xlim` and `ylim`. If, for example, you wanted the vertical axis to range from $0$ to $1$, you would add `ylim=c(0,1)` inside the `plot` command."
   ]
  },
  {
   "attachments": {},
   "cell_type": "markdown",
   "metadata": {},
   "source": [
    "Finally, to change the color of the plot, add `col=\"orange\"` or `col=\"green\"`, or whatever your favorite color is!"
   ]
  },
  {
   "attachments": {},
   "cell_type": "markdown",
   "metadata": {},
   "source": [
    "## Universality with Logistic"
   ]
  },
  {
   "attachments": {},
   "cell_type": "markdown",
   "metadata": {},
   "source": [
    "We proved in Example 5.3.4 that for $U \\sim \\text{Unif}(0,1)$, the r.v. $\\log(U/(1−U))$ follows a Logistic distribution. In R, we can simply generate a large number of $\\text{Unif}(0,1)$ realizations and transform them."
   ]
  },
  {
   "cell_type": "code",
   "execution_count": null,
   "metadata": {
    "vscode": {
     "languageId": "r"
    }
   },
   "outputs": [],
   "source": [
    "u <- runif(10^4)\n",
    "x <- log(u/(1-u))"
   ]
  },
  {
   "attachments": {},
   "cell_type": "markdown",
   "metadata": {},
   "source": [
    "Now `x` contains $10^4$ realizations from the distribution of $\\log(U/(1−U))$. We can visualize them with a histogram, using the command `hist(x)`. The histogram resembles a Logistic PDF, which is reassuring. To control how fine-grained the histogram is, we can set the number of breaks in the histogram: `hist(x,breaks=100)` produces a finer histogram, while `hist(x,breaks=10)` produces a coarser histogram."
   ]
  },
  {
   "cell_type": "code",
   "execution_count": null,
   "metadata": {
    "vscode": {
     "languageId": "r"
    }
   },
   "outputs": [],
   "source": [
    "hist(x)"
   ]
  },
  {
   "attachments": {},
   "cell_type": "markdown",
   "metadata": {},
   "source": [
    "## Poisson process simulation"
   ]
  },
  {
   "attachments": {},
   "cell_type": "markdown",
   "metadata": {},
   "source": [
    "To simulate $n$ arrivals in a Poisson process with rate $\\lambda$, we first generate the interarrival times as i.i.d. Exponentials and store them in a vector:"
   ]
  },
  {
   "cell_type": "code",
   "execution_count": null,
   "metadata": {
    "vscode": {
     "languageId": "r"
    }
   },
   "outputs": [],
   "source": [
    "n <- 50\n",
    "lambda <- 10\n",
    "x <- rexp(n,lambda)"
   ]
  },
  {
   "attachments": {},
   "cell_type": "markdown",
   "metadata": {},
   "source": [
    "Then we convert the interarrival times into arrival times using the `cumsum` function, which stands for \"cumulative sum\"."
   ]
  },
  {
   "cell_type": "code",
   "execution_count": null,
   "metadata": {
    "vscode": {
     "languageId": "r"
    }
   },
   "outputs": [],
   "source": [
    "t <- cumsum(x)\n",
    "t"
   ]
  },
  {
   "attachments": {},
   "cell_type": "markdown",
   "metadata": {},
   "source": [
    "The vector `t` now contains all the simulated arrival times."
   ]
  }
 ],
 "metadata": {
  "kernelspec": {
   "display_name": "R",
   "language": "R",
   "name": "ir"
  },
  "language_info": {
   "codemirror_mode": "r",
   "file_extension": ".r",
   "mimetype": "text/x-r-source",
   "name": "R",
   "pygments_lexer": "r",
   "version": "4.2.2"
  },
  "orig_nbformat": 4
 },
 "nbformat": 4,
 "nbformat_minor": 2
}
