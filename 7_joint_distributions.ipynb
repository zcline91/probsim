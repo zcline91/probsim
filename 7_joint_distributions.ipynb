{
 "cells": [
  {
   "attachments": {},
   "cell_type": "markdown",
   "metadata": {},
   "source": [
    "# Chapter 7: Joint distributions"
   ]
  },
  {
   "attachments": {},
   "cell_type": "markdown",
   "metadata": {},
   "source": [
    "## Multinomial"
   ]
  },
  {
   "attachments": {},
   "cell_type": "markdown",
   "metadata": {},
   "source": [
    "The functions for the Multinomial distribution are `dmultinom` (which is the joint PMF of the Multinomial distribution) and `rmultinom` (which generates realizations of Multinomial random vectors). The joint CDF of the Multinomial is a pain to work with, so it is not built into R."
   ]
  },
  {
   "attachments": {},
   "cell_type": "markdown",
   "metadata": {},
   "source": [
    "To use `dmultinom`, we have to input the value at which to evaluate the joint PMF, as well as the parameters of the distribution. For example,"
   ]
  },
  {
   "cell_type": "code",
   "execution_count": null,
   "metadata": {
    "vscode": {
     "languageId": "r"
    }
   },
   "outputs": [],
   "source": [
    "x <- c(2,0,3)\n",
    "n <- 5\n",
    "p <- c(1/3,1/3,1/3)\n",
    "dmultinom(x,n,p)"
   ]
  },
  {
   "attachments": {},
   "cell_type": "markdown",
   "metadata": {},
   "source": [
    "returns the probability $P(X_1= 2,X_2= 0,X_3= 3)$, where\n",
    "$$ \\mathbf X = (X_1, X_2, X_3) \\sim \\text{Mult}_3(5, (1/3, 1/3, 1/3)).$$\n",
    "Of course, `n` has to equal `sum(x)`; if we attempted to do `dmultinom(x,7,p)`, R would report an error."
   ]
  },
  {
   "attachments": {},
   "cell_type": "markdown",
   "metadata": {},
   "source": [
    "For `rmultinom`, the first input is the number of Multinomial random vectors to generate, and the other inputs are the same. When we typed `rmultinom(10,n,p)` with `n` and `p` as above, R gave us the following matrix:\n",
    "```\n",
    "0    2    1    3    2    3    1    2    3    4\n",
    "2    2    2    2    3    0    1    2    0    0\n",
    "3    1    2    0    0    2    3    1    2    1\n",
    "```"
   ]
  },
  {
   "attachments": {},
   "cell_type": "markdown",
   "metadata": {},
   "source": [
    "Each column of the matrix corresponds to a draw from the $\\text{Mult}_3(5,(1/3,1/3,1/3))$ distribution. In particular, the sum of each column is $5$."
   ]
  },
  {
   "attachments": {},
   "cell_type": "markdown",
   "metadata": {},
   "source": [
    "## Multivariate Normal"
   ]
  },
  {
   "attachments": {},
   "cell_type": "markdown",
   "metadata": {},
   "source": [
    "Functions for the Multivariate Normal distribution are located in the package `mvtnorm`. Online resources can teach you how to install packages in R for your system, but for many systems an easy way is to use the `install.packages` command, e.g., by typing `install.packages(\"mvtnorm\")` to install the `mvtnorm` package. After installing it, load the package with `library(mvtnorm)`. Then `dmvnorm` can be used for calculating the joint PDF, and `rmvnorm` can be used for generating random vectors. For example, suppose that we want to generate 1000 independent Bivariate Normal pairs $(Z,W)$, with correlation $\\rho = 0.7$ and $\\mathcal N(0,1)$ marginals. To do this, we can enter the following:"
   ]
  },
  {
   "cell_type": "code",
   "execution_count": null,
   "metadata": {
    "vscode": {
     "languageId": "r"
    }
   },
   "outputs": [],
   "source": [
    "install.packages(\"mvtnorm\") # This can be commented out if you've already installed the package previously.\n",
    "library(mvtnorm)\n",
    "meanvector <- c(0,0)\n",
    "rho <- 0.7\n",
    "covmatrix <- matrix(c(1,rho,rho,1), nrow = 2, ncol = 2)\n",
    "r <- rmvnorm(n = 10^3, mean = meanvector, sigma = covmatrix)"
   ]
  },
  {
   "attachments": {},
   "cell_type": "markdown",
   "metadata": {},
   "source": [
    "The covariance matrix here is \n",
    "$$\\begin{pmatrix}\n",
    "    1 & \\rho \\\\\n",
    "    \\rho & 1\n",
    "\\end{pmatrix}$$\n",
    "because\n",
    "- $\\text{Cov}(Z,Z) = \\text{Var}(Z) = 1$ (this is the upper left entry),\n",
    "- $\\text{Cov}(W,W) = \\text{Var}(W) = 1$ (this is the lower right entry),\n",
    "- $\\text{Cov}(Z,W) = \\text{Corr}(Z,W) \\text{SD}(Z) \\text{SD}(W) = \\rho$ (this is the other two entries).\n",
    "\n",
    "Now `r` is a $1000 \\times 2$ matrix, with each row a BVN random vector. To see these as points in the plane, we can use `plot(r)` to make a scatter plot, from which the strong positive correlation should be clear. To estimate the covariance of $Z$ and $W$, we can use `cov(r)`, which the true covariance matrix."
   ]
  },
  {
   "attachments": {},
   "cell_type": "markdown",
   "metadata": {},
   "source": [
    "Example 7.5.10 gives another approach to the BVN generation problem: "
   ]
  },
  {
   "cell_type": "code",
   "execution_count": null,
   "metadata": {
    "vscode": {
     "languageId": "r"
    }
   },
   "outputs": [],
   "source": [
    "rho <- 0.7\n",
    "tau <- sqrt(1-rho^2)\n",
    "x <- rnorm(10^3)\n",
    "y <- rnorm(10^3)\n",
    "z <- x\n",
    "w <- rho*x + tau*y"
   ]
  },
  {
   "attachments": {},
   "cell_type": "markdown",
   "metadata": {},
   "source": [
    "This gives the $Z$-coordinates in a vector `z` and the $W$-coordinates in a vector `w`. If we want to put them into one $1000 \\times 2$ matrix as we had above, we can type `cbind(z,w)` to bind the vectors together as columns."
   ]
  },
  {
   "attachments": {},
   "cell_type": "markdown",
   "metadata": {},
   "source": [
    "## Cauchy"
   ]
  },
  {
   "attachments": {},
   "cell_type": "markdown",
   "metadata": {},
   "source": [
    "We can work with the Cauchy distribution introduced in Example 7.1.25 using the three functions `dcauchy`, `pcauchy`, and `rcauchy`. Only one input is needed; for example, `dcauchy(0)` is the Cauchy PDF evaluated at 0."
   ]
  },
  {
   "attachments": {},
   "cell_type": "markdown",
   "metadata": {},
   "source": [
    "For an amusing demonstration of the very heavy tails of the Cauchy distribution, try creating a histogram of 1000 simulated values of the Cauchy distribution:"
   ]
  },
  {
   "cell_type": "code",
   "execution_count": null,
   "metadata": {
    "vscode": {
     "languageId": "r"
    }
   },
   "outputs": [],
   "source": [
    "hist(rcauchy(1000))"
   ]
  },
  {
   "attachments": {},
   "cell_type": "markdown",
   "metadata": {},
   "source": [
    "Due to extreme values in the tails of the distribution, this histogram looks nothing like the PDF of the distribution from which it was generated."
   ]
  }
 ],
 "metadata": {
  "kernelspec": {
   "display_name": "R",
   "language": "R",
   "name": "ir"
  },
  "language_info": {
   "codemirror_mode": "r",
   "file_extension": ".r",
   "mimetype": "text/x-r-source",
   "name": "R",
   "pygments_lexer": "r",
   "version": "4.2.2"
  },
  "orig_nbformat": 4
 },
 "nbformat": 4,
 "nbformat_minor": 2
}
